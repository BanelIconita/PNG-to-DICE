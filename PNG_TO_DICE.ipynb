{
  "nbformat": 4,
  "nbformat_minor": 0,
  "metadata": {
    "colab": {
      "name": "Copy of PNG_TO_DICE.ipynb",
      "provenance": [],
      "collapsed_sections": []
    },
    "kernelspec": {
      "name": "python3",
      "display_name": "Python 3"
    },
    "language_info": {
      "name": "python"
    }
  },
  "cells": [
    {
      "cell_type": "code",
      "source": [
        "!pip install pygame\n",
        "!pip install opencv-python\n",
        "import os\n",
        "os.environ[\"SDL_VIDEODRIVER\"] = \"dummy\"\n"
      ],
      "metadata": {
        "colab": {
          "base_uri": "https://localhost:8080/"
        },
        "id": "s5wQNUVqM87T",
        "outputId": "d1de4c49-da2d-4edf-f0a0-d91499a58a00"
      },
      "execution_count": 1,
      "outputs": [
        {
          "output_type": "stream",
          "name": "stdout",
          "text": [
            "Looking in indexes: https://pypi.org/simple, https://us-python.pkg.dev/colab-wheels/public/simple/\n",
            "Collecting pygame\n",
            "  Downloading pygame-2.1.2-cp37-cp37m-manylinux_2_17_x86_64.manylinux2014_x86_64.whl (21.8 MB)\n",
            "\u001b[K     |████████████████████████████████| 21.8 MB 1.9 MB/s \n",
            "\u001b[?25hInstalling collected packages: pygame\n",
            "Successfully installed pygame-2.1.2\n",
            "Looking in indexes: https://pypi.org/simple, https://us-python.pkg.dev/colab-wheels/public/simple/\n",
            "Requirement already satisfied: opencv-python in /usr/local/lib/python3.7/dist-packages (4.1.2.30)\n",
            "Requirement already satisfied: numpy>=1.14.5 in /usr/local/lib/python3.7/dist-packages (from opencv-python) (1.21.6)\n"
          ]
        }
      ]
    },
    {
      "cell_type": "markdown",
      "source": [
        "# New Section"
      ],
      "metadata": {
        "id": "s11Nm6QsGfNt"
      }
    },
    {
      "cell_type": "code",
      "execution_count": 2,
      "metadata": {
        "id": "fWfI37iCMKeL",
        "colab": {
          "base_uri": "https://localhost:8080/"
        },
        "outputId": "4231eef0-daca-4606-8b97-06717de9fef2"
      },
      "outputs": [
        {
          "output_type": "stream",
          "name": "stdout",
          "text": [
            "pygame 2.1.2 (SDL 2.0.16, Python 3.7.13)\n",
            "Hello from the pygame community. https://www.pygame.org/contribute.html\n"
          ]
        }
      ],
      "source": [
        "import cv2  # pip install opencv-python\n",
        "import pygame as pg\n",
        "from math import ceil\n",
        "\n",
        "DIE_WIDTH = 25\n",
        "RESOLUTION_FACTOR = 2\n",
        "\n",
        "pg.init()\n",
        "img = cv2.imread('input.png', 0)\n",
        "HEIGHT, WIDTH = img.shape\n",
        "WIDTH *= RESOLUTION_FACTOR\n",
        "HEIGHT *= RESOLUTION_FACTOR\n",
        "DOT_RADIUS = DIE_WIDTH // 10\n",
        "GRID_WIDTH = WIDTH // DIE_WIDTH\n",
        "GRID_HEIGHT = HEIGHT // DIE_WIDTH\n",
        "w = pg.display.set_mode((GRID_WIDTH * DIE_WIDTH, GRID_HEIGHT * DIE_WIDTH))\n",
        "\n",
        "DOT_CENTERS = {\n",
        "    1: [(0, 0)],\n",
        "    2: [(1, -1), (-1, 1)],\n",
        "    3: [(1, -1), (0, 0), (-1, 1)],\n",
        "    4: [(-1, -1), (1, -1), (-1, 1), (1, 1)],\n",
        "    5: [(-1, -1), (1, -1), (-1, 1), (1, 1), (0, 0)],\n",
        "    6: [(-1, -1), (1, -1), (-1, 1), (1, 1), (-1, 0), (1, 0)]\n",
        "}\n",
        "\n",
        "# Downscale image\n",
        "img = cv2.resize(img, (GRID_WIDTH, GRID_HEIGHT), interpolation=cv2.INTER_AREA)\n",
        "\n",
        "\n",
        "def draw_dice():\n",
        "    for pixel_x in range(GRID_WIDTH):\n",
        "        for pixel_y in range(GRID_HEIGHT):\n",
        "            brightness = img[pixel_y][pixel_x]\n",
        "\n",
        "            die_number = ceil(brightness / 42.5)  # Map to 1-6\n",
        "            \n",
        "            if die_number == 0:\n",
        "                continue\n",
        "\n",
        "            die_x = pixel_x*DIE_WIDTH + 0.5*DIE_WIDTH\n",
        "            die_y = pixel_y*DIE_WIDTH + 0.5*DIE_WIDTH\n",
        "\n",
        "            for dotCenter in DOT_CENTERS[die_number]:\n",
        "                dot_x = die_x + dotCenter[0]*DIE_WIDTH*0.25\n",
        "                dot_y = die_y + dotCenter[1]*DIE_WIDTH*0.25\n",
        "                pg.draw.circle(w, [255, 255, 255], (int(dot_x), int(dot_y)), DOT_RADIUS)\n",
        "\n",
        "\n",
        "def draw_lines():\n",
        "    for i in range(GRID_WIDTH):\n",
        "        x = i * DIE_WIDTH\n",
        "        pg.draw.line(w, [50, 50, 50], (x, 0), (x, HEIGHT))\n",
        "\n",
        "    for i in range(GRID_HEIGHT):\n",
        "        y = i * DIE_WIDTH\n",
        "        pg.draw.line(w, [50, 50, 50], (0, y), (WIDTH, y))\n",
        "\n",
        "\n",
        "if __name__ == '__main__':\n",
        "    draw_dice()\n",
        "    draw_lines()\n",
        "    pg.display.update()\n",
        "    pg.image.save(w, \"output.png\")\n",
        "    pg.quit()"
      ]
    }
  ]
}